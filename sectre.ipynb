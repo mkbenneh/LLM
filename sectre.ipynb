{
 "cells": [
  {
   "cell_type": "code",
   "execution_count": 3,
   "metadata": {},
   "outputs": [],
   "source": [
    "import streamlit as st\n",
    "from phi.assistant import Assistant\n",
    "from phi.llm.openai import OpenAIChat\n",
    "from phi.tools.arxiv_toolkit import ArxivToolkit"
   ]
  },
  {
   "cell_type": "code",
   "execution_count": 4,
   "metadata": {},
   "outputs": [
    {
     "data": {
      "text/plain": [
       "DeltaGenerator()"
      ]
     },
     "execution_count": 4,
     "metadata": {},
     "output_type": "execute_result"
    }
   ],
   "source": [
    "st.title(\"Chat with sectre\")\n",
    "st.caption(\"This app allows to to chat with sectre using OpenAI GPT-4o model\")"
   ]
  },
  {
   "cell_type": "code",
   "execution_count": 5,
   "metadata": {},
   "outputs": [
    {
     "name": "stderr",
     "output_type": "stream",
     "text": [
      "2024-06-09 15:25:51.363 Session state does not function when running a script without `streamlit run`\n"
     ]
    }
   ],
   "source": [
    "openai_access_token = st.text_input(\"OpenAI API key\")\n",
    "if openai_access_token:\n",
    "    assistant =assistant(\n",
    "        model=\"gpt-4o\",\n",
    "        max_tokens=1024,\n",
    "        temperature=0.9,\n",
    "        api_key=openai_access_token, tools=[ArxivToolkit()], show_tool_calls=True\n",
    "    )\n"
   ]
  },
  {
   "cell_type": "code",
   "execution_count": 6,
   "metadata": {},
   "outputs": [],
   "source": [
    "query = st.text_input(\"Enter the search query\", type='default')\n",
    "if query:\n",
    "    response = assistant.run(query, stream=False)\n",
    "    st.write(response)\n"
   ]
  }
 ],
 "metadata": {
  "kernelspec": {
   "display_name": "Python 3",
   "language": "python",
   "name": "python3"
  },
  "language_info": {
   "codemirror_mode": {
    "name": "ipython",
    "version": 3
   },
   "file_extension": ".py",
   "mimetype": "text/x-python",
   "name": "python",
   "nbconvert_exporter": "python",
   "pygments_lexer": "ipython3",
   "version": "3.11.3"
  }
 },
 "nbformat": 4,
 "nbformat_minor": 2
}
